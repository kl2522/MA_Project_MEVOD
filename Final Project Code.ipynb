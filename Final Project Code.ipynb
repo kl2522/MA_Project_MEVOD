{
 "cells": [
  {
   "cell_type": "markdown",
   "metadata": {},
   "source": [
    "# Marketing Analytics FA 2020 Final Project - Movid\n",
    "\n",
    "### Kun Liu, kl2522"
   ]
  },
  {
   "cell_type": "markdown",
   "metadata": {},
   "source": [
    "### Part 1 - A/B Testing"
   ]
  },
  {
   "cell_type": "code",
   "execution_count": 1,
   "metadata": {
    "scrolled": true
   },
   "outputs": [],
   "source": [
    "import numpy as np\n",
    "import pandas as pd\n",
    "from scipy.stats import norm\n",
    "import datetime\n",
    "\n",
    "# load the data and pre-processing the dates\n",
    "df = pd.read_csv('subscribers.csv')\n",
    "df.account_creation_date = pd.to_datetime(df.account_creation_date, format='%Y-%m-%d')\n",
    "df.account_creation_date = df.account_creation_date.apply(lambda x: datetime.date(year=x.year, month=x.month, day=x.day))\n",
    "\n",
    "# add the effectiveness flag (payment_period > 0)\n",
    "df['mkt_effective_TF'] = df.payment_period.apply(lambda x: 1 if x>0 else 0)\n",
    "\n",
    "# set test_1 and test_2 date account creation date range\n",
    "test_1_start_date = datetime.date(year=2019, month=11, day=1)\n",
    "test_1_end_date = datetime.date(year=2019, month=12, day=1)\n",
    "\n",
    "test_2_start_date = datetime.date(year=2019, month=7, day=1)\n",
    "test_2_end_date = datetime.date(year=2019, month=12, day=1)"
   ]
  },
  {
   "cell_type": "code",
   "execution_count": 2,
   "metadata": {
    "scrolled": true
   },
   "outputs": [],
   "source": [
    "# slice the data for the respective tests\n",
    "df_test1 = df.loc[(\n",
    "                  (df['plan_type'] == 'base_uae_14_day_trial')|(df['plan_type'] == 'high_uae_14_day_trial')\n",
    "                  ) & \n",
    "                  (df['account_creation_date'] >= test_1_start_date) &\n",
    "                  (df['account_creation_date'] < test_1_end_date),\n",
    "                  ['subid', 'plan_type', 'account_creation_date', 'mkt_effective_TF']]\n",
    "\n",
    "df_test2 = df.loc[(\n",
    "                  (df['plan_type'] == 'base_uae_14_day_trial')|(df['plan_type'] == 'low_uae_no_trial')\n",
    "                  ) & \n",
    "                  (df['account_creation_date'] >= test_2_start_date) &\n",
    "                  (df['account_creation_date'] < test_2_end_date),\n",
    "                  ['subid', 'plan_type', 'account_creation_date', 'mkt_effective_TF']]"
   ]
  },
  {
   "cell_type": "code",
   "execution_count": 3,
   "metadata": {
    "scrolled": true
   },
   "outputs": [],
   "source": [
    "# for A/B test calculation\n",
    "def calc_proportion(array_TF):\n",
    "    return sum(array_TF)/len(array_TF)\n",
    "\n",
    "def calc_zscore(phat_f, nhat_f, p_f, n_f=1, num_samples_f=1, two_sample_diff_f=0):\n",
    "    print('Conducting test assuming %d samples' % num_samples_f)\n",
    "    print('z = ((%3.3f - %3.3f) - %d)/std_error' % (phat_f, p_f, two_sample_diff_f))\n",
    "    return ((phat_f - p_f) - two_sample_diff_f)/calc_standard_error(p_f, n_f, phat_f, nhat_f, num_samples_f)\n",
    "\n",
    "def get_p_value(zscore_f, num_sides_f):\n",
    "    return 1 - ((1-norm.cdf(abs(zscore_f))) * num_sides_f)\n",
    "\n",
    "def get_z_crit_value(alpha_f, num_sides_f):\n",
    "    return norm.ppf(1-(alpha_f/num_sides_f))\n",
    "\n",
    "def calc_standard_error(p_f, n_f, phat_f, nhat_f, num_samples_f=1):\n",
    "    # if we assume one sample (Variant B) and Variant A as baseline = population, p_f and n_f are variant A stats\n",
    "    if num_samples_f == 1:\n",
    "        std_err_f = np.sqrt(p_f*(1-p_f)/nhat_f)\n",
    "        print('Std err for %d sample test: \\nnp.sqrt(%3.3f * (1 - %3.3f)/ %d) = %3.4f' % (num_samples_f, p_f, p_f, nhat_f, std_err_f))\n",
    "        return std_err_f\n",
    "    # if we assume two samples (Variant A and Variant B both), p_f, n_f, phat_f, nhat_f are the values for each sample\n",
    "    if num_samples_f == 2:\n",
    "        std_err_f = np.sqrt((p_f*(1-p_f)/n_f) + (phat_f * (1-phat_f) / nhat_f))\n",
    "        print('Std err for %d sample test: \\nnp.sqrt((%3.3f*(1-%3.3f)/%d) + (%3.3f * (1-%3.3f) / %d))' % (num_samples_f, p_f, p_f, n_f, phat_f, phat_f, nhat_f))\n",
    "        return std_err_f\n",
    "\n",
    "def reject_null(variantA_outcomes_f, variantB_outcomes_f, alpha_f, num_sides_f, num_samples_f):\n",
    "    phat_f = calc_proportion(variantB_outcomes_f)\n",
    "    nhat_f = len(variantB_outcomes_f)\n",
    "    p_f = calc_proportion(variantA_outcomes_f)\n",
    "    n_f = len(variantA_outcomes_f)\n",
    "    print('Proportion 1 (Variant A): %2.3f (%d obs)' % (p_f, n_f))\n",
    "    print('Proportion 2 (Variant B): %2.3f (%d obs)' % (phat_f, nhat_f))\n",
    "    z_score_f = calc_zscore(phat_f, nhat_f, p_f, n_f, num_samples_f)\n",
    "    p_value_f = get_p_value(z_score_f, num_sides_f)\n",
    "    z_crit_f = get_z_crit_value(alpha_f, num_sides_f)\n",
    "\n",
    "    return z_score_f > z_crit_f, z_score_f, p_value_f"
   ]
  },
  {
   "cell_type": "code",
   "execution_count": 4,
   "metadata": {
    "scrolled": true
   },
   "outputs": [
    {
     "name": "stdout",
     "output_type": "stream",
     "text": [
      "Proportion 1 (Variant A): 0.683 (26493 obs)\n",
      "Proportion 2 (Variant B): 0.658 (325 obs)\n",
      "Conducting test assuming 2 samples\n",
      "z = ((0.658 - 0.683) - 0)/std_error\n",
      "Std err for 2 sample test: \n",
      "np.sqrt((0.683*(1-0.683)/26493) + (0.658 * (1-0.658) / 325))\n",
      "For 1-sided, 2-sample test, reject null T/F?: False\n",
      "z-score = -0.942 and p-value = 82.7%\n"
     ]
    }
   ],
   "source": [
    "# Test 1\n",
    "\n",
    "# set parameters\n",
    "alpha = 0.05\n",
    "num_sides = 1\n",
    "num_samples = 2\n",
    "variantA_outcomes = df_test1.loc[df_test1['plan_type'] == 'base_uae_14_day_trial', 'mkt_effective_TF']\n",
    "variantB_outcomes = df_test1.loc[df_test1['plan_type'] == 'high_uae_14_day_trial', 'mkt_effective_TF']\n",
    "\n",
    "# run tests\n",
    "reject_null_test, z_score, p_value = reject_null(df_test1.loc[(df_test1['plan_type'] == 'base_uae_14_day_trial'), 'mkt_effective_TF'],\n",
    "                                                 df_test1.loc[(df_test1['plan_type'] == 'high_uae_14_day_trial'), 'mkt_effective_TF'],\n",
    "                                                 alpha, num_sides, num_samples)\n",
    "\n",
    "print('For %d-sided, %d-sample test, reject null T/F?: %s' % (num_sides, num_samples, reject_null_test))\n",
    "print('z-score = %3.3f and p-value = %3.1f%%' % (z_score, p_value*100))"
   ]
  },
  {
   "cell_type": "code",
   "execution_count": 5,
   "metadata": {
    "scrolled": true
   },
   "outputs": [
    {
     "name": "stdout",
     "output_type": "stream",
     "text": [
      "Proportion 1 (Variant A): 0.563 (120050 obs)\n",
      "Proportion 2 (Variant B): 0.527 (167 obs)\n",
      "Conducting test assuming 2 samples\n",
      "z = ((0.527 - 0.563) - 0)/std_error\n",
      "Std err for 2 sample test: \n",
      "np.sqrt((0.563*(1-0.563)/120050) + (0.527 * (1-0.527) / 167))\n",
      "For 1-sided, 2-sample test, reject null T/F?: False\n",
      "z-score = -0.924 and p-value = 82.2%\n"
     ]
    }
   ],
   "source": [
    "# Test 2\n",
    "\n",
    "# set parameters\n",
    "alpha = 0.05\n",
    "num_sides = 1\n",
    "num_samples = 2\n",
    "variantA_outcomes = df_test2.loc[df_test2['plan_type'] == 'base_uae_14_day_trial', 'mkt_effective_TF']\n",
    "variantB_outcomes = df_test2.loc[df_test2['plan_type'] == 'low_uae_no_trial', 'mkt_effective_TF']\n",
    "\n",
    "# run tests\n",
    "reject_null_test, z_score, p_value = reject_null(df_test2.loc[(df_test2['plan_type'] == 'base_uae_14_day_trial'), 'mkt_effective_TF'],\n",
    "                                                 df_test2.loc[(df_test2['plan_type'] == 'low_uae_no_trial'), 'mkt_effective_TF'],\n",
    "                                                 alpha, num_sides, num_samples)\n",
    "\n",
    "print('For %d-sided, %d-sample test, reject null T/F?: %s' % (num_sides, num_samples, reject_null_test))\n",
    "print('z-score = %3.3f and p-value = %3.1f%%' % (z_score, p_value*100))"
   ]
  },
  {
   "cell_type": "markdown",
   "metadata": {},
   "source": [
    "### Part 2 - Customer Segmentation & Targeting"
   ]
  },
  {
   "cell_type": "code",
   "execution_count": 6,
   "metadata": {
    "scrolled": true
   },
   "outputs": [],
   "source": [
    "# ---------- called again just in case ----------\n",
    "import pandas as pd\n",
    "\n",
    "# load the data and pre-processing the dates\n",
    "df = pd.read_csv('subscribers.csv')\n",
    "\n",
    "# add the effectiveness flag (payment_period > 0)\n",
    "df['mkt_effective_TF'] = df.payment_period.apply(lambda x: 1 if x>0 else 0)"
   ]
  },
  {
   "cell_type": "code",
   "execution_count": 7,
   "metadata": {
    "scrolled": true
   },
   "outputs": [
    {
     "data": {
      "text/plain": [
       "Index(['Unnamed: 0', 'subid', 'package_type', 'num_weekly_services_utilized',\n",
       "       'preferred_genre', 'intended_use', 'weekly_consumption_hour',\n",
       "       'num_ideal_streaming_services', 'age', 'male_TF', 'country',\n",
       "       'attribution_technical', 'attribution_survey', 'op_sys',\n",
       "       'months_per_bill_period', 'plan_type', 'monthly_price',\n",
       "       'discount_price', 'account_creation_date', 'trial_end_date',\n",
       "       'initial_credit_card_declined', 'join_fee', 'language', 'payment_type',\n",
       "       'num_trial_days', 'current_sub_TF', 'payment_period', 'last_payment',\n",
       "       'next_payment', 'cancel_date', 'trial_completed', 'mkt_effective_TF'],\n",
       "      dtype='object')"
      ]
     },
     "execution_count": 7,
     "metadata": {},
     "output_type": "execute_result"
    }
   ],
   "source": [
    "df.columns"
   ]
  },
  {
   "cell_type": "code",
   "execution_count": 8,
   "metadata": {
    "scrolled": true
   },
   "outputs": [],
   "source": [
    "# get the fee-paying current user group with key variables for analysis\n",
    "df_seg = df.loc[(df['current_sub_TF'] == True) & (df['mkt_effective_TF'] == 1),\n",
    "                ['subid', 'package_type', 'num_weekly_services_utilized', \n",
    "                 'preferred_genre', 'intended_use', 'weekly_consumption_hour', \n",
    "                 'num_ideal_streaming_services', 'age', 'male_TF', 'op_sys',\n",
    "                 'initial_credit_card_declined']]"
   ]
  },
  {
   "cell_type": "code",
   "execution_count": 9,
   "metadata": {},
   "outputs": [],
   "source": [
    "# define functions for data cleaning (categorizations)\n",
    "\n",
    "def OTT_utilized(number):\n",
    "    if number == 'Average_OTT':\n",
    "        return('Average_OTT')\n",
    "    else:\n",
    "        number = int(number)\n",
    "        if number >= 0 and number <= 2:\n",
    "            return('Low_OTT')\n",
    "        elif number >= 3 and number <= 5:\n",
    "            return('Average_OTT')\n",
    "        else: \n",
    "            return('High_OTT')\n",
    "\n",
    "def hours_consumed(number):\n",
    "    if number == 'Average_Consumption':\n",
    "        return('Average_Consumption')\n",
    "    else:\n",
    "        number = int(number)\n",
    "        if number < 21:\n",
    "            return('Light_Consumption')\n",
    "        elif number >= 21 and number < 35:\n",
    "            return('Average_Consumption')\n",
    "        else: \n",
    "            return('High_Consumption')\n",
    "\n",
    "def straeming_service(number):\n",
    "    if number == 'Average_Streaming':\n",
    "        return('Average_Streaming')\n",
    "    else:\n",
    "        number = int(number)\n",
    "        if number <= 1:\n",
    "            return('Low_Streaming')\n",
    "        elif number == 2:\n",
    "            return('Average_Streaming')\n",
    "        else: \n",
    "            return('High_Streaming')\n",
    "        \n",
    "def age_range(number):\n",
    "    if number == 'Mid_age':\n",
    "        return('Mid_age')\n",
    "    else:\n",
    "        number = int(number)\n",
    "        if number > 1900 and number < 2020:\n",
    "            number = 2020 - number\n",
    "        else:\n",
    "            pass\n",
    "        if number <= 30:\n",
    "            return('Young')\n",
    "        elif number > 30 and number < 60:\n",
    "            return('Mid_age')\n",
    "        else: \n",
    "            return('Senior')"
   ]
  },
  {
   "cell_type": "code",
   "execution_count": 10,
   "metadata": {
    "scrolled": true
   },
   "outputs": [],
   "source": [
    "## data cleaning\n",
    "# 1. \"package_type\" (fill_na)\n",
    "df_seg['package_type'] = df_seg['package_type'].fillna('no_package')\n",
    "\n",
    "# 2. \"num_weekly_services_utilized\" (fill_na & categorization)\n",
    "df_seg['num_weekly_services_utilized'] = df_seg['num_weekly_services_utilized'].fillna('Average_OTT')\n",
    "df_seg['OTT_utilized'] = df_seg['num_weekly_services_utilized'].apply(OTT_utilized)\n",
    "\n",
    "# 3. \"preferred_genre\" (fill_na)\n",
    "df_seg['preferred_genre'] = df_seg['preferred_genre'].fillna('no_genre_preference')\n",
    "\n",
    "# 4. \"intended_use\" (fill_na)\n",
    "df_seg['intended_use'] = df_seg['intended_use'].fillna('no_intended_use')\n",
    "\n",
    "# 5. \"weekly_consumption_hour\" (fill_na & categorization)\n",
    "df_seg['weekly_consumption_hour'] = df_seg['weekly_consumption_hour'].fillna('Average_Consumption')\n",
    "df_seg['Consumption_pattern'] = df_seg['weekly_consumption_hour'].apply(hours_consumed)\n",
    "\n",
    "# 6. \"num_ideal_streaming_services\" (fill_na & categorization)\n",
    "df_seg['num_ideal_streaming_services'] = df_seg['num_ideal_streaming_services'].fillna('Average_Streaming')\n",
    "df_seg['Streaming_pattern'] = df_seg['num_ideal_streaming_services'].apply(straeming_service)\n",
    "\n",
    "# 7. \"age\" (fill_na & categorization)\n",
    "df_seg['age'] = df_seg['age'].fillna('Mid_age')\n",
    "df_seg['Age_group'] = df_seg['age'].apply(age_range)\n",
    "\n",
    "# 8. \"male_TF\" (fill_na)\n",
    "df_seg['male_TF'] = df_seg['male_TF'].fillna(False)\n",
    "\n",
    "# 9. \"op_sys\" (fill_na)\n",
    "df_seg['op_sys'] = df_seg['op_sys'].fillna('Other')"
   ]
  },
  {
   "cell_type": "code",
   "execution_count": 11,
   "metadata": {
    "scrolled": true
   },
   "outputs": [],
   "source": [
    "# consolidate all the data pre-processing results\n",
    "df_seg_clean = df_seg[['subid', 'package_type', 'preferred_genre', 'intended_use', \n",
    "                       'male_TF', 'op_sys', 'initial_credit_card_declined', 'OTT_utilized',\n",
    "                       'Consumption_pattern', 'Streaming_pattern', 'Age_group']]\n",
    "\n",
    "df_seg_clean = df_seg_clean.set_index('subid')"
   ]
  },
  {
   "cell_type": "code",
   "execution_count": 12,
   "metadata": {
    "scrolled": true
   },
   "outputs": [
    {
     "data": {
      "text/plain": [
       "Index(['male_TF', 'initial_credit_card_declined', 'package_type_base',\n",
       "       'package_type_economy', 'package_type_enhanced',\n",
       "       'package_type_no_package', 'preferred_genre_comedy',\n",
       "       'preferred_genre_drama', 'preferred_genre_international',\n",
       "       'preferred_genre_no_genre_preference', 'preferred_genre_other',\n",
       "       'preferred_genre_regional', 'intended_use_access to exclusive content',\n",
       "       'intended_use_education', 'intended_use_expand international access',\n",
       "       'intended_use_expand regional access', 'intended_use_no_intended_use',\n",
       "       'intended_use_other', 'intended_use_replace OTT',\n",
       "       'intended_use_supplement OTT', 'op_sys_Android', 'op_sys_Other',\n",
       "       'op_sys_iOS', 'OTT_utilized_Average_OTT', 'OTT_utilized_High_OTT',\n",
       "       'OTT_utilized_Low_OTT', 'Consumption_pattern_Average_Consumption',\n",
       "       'Consumption_pattern_High_Consumption',\n",
       "       'Consumption_pattern_Light_Consumption',\n",
       "       'Streaming_pattern_Average_Streaming',\n",
       "       'Streaming_pattern_High_Streaming', 'Streaming_pattern_Low_Streaming',\n",
       "       'Age_group_Mid_age', 'Age_group_Senior', 'Age_group_Young'],\n",
       "      dtype='object')"
      ]
     },
     "execution_count": 12,
     "metadata": {},
     "output_type": "execute_result"
    }
   ],
   "source": [
    "# transform categorical variables into dummy variables\n",
    "df_seg_clean = pd.get_dummies(df_seg_clean)\n",
    "df_seg_clean.columns"
   ]
  },
  {
   "cell_type": "code",
   "execution_count": 13,
   "metadata": {
    "scrolled": true
   },
   "outputs": [],
   "source": [
    "# import the required functions for K-Means model\n",
    "from sklearn.cluster import KMeans\n",
    "from sklearn.model_selection import train_test_split\n",
    "import matplotlib.pyplot as plt"
   ]
  },
  {
   "cell_type": "code",
   "execution_count": 14,
   "metadata": {
    "scrolled": true
   },
   "outputs": [
    {
     "data": {
      "image/png": "[encoded data removed]",
      "text/plain": [
       "<Figure size 432x288 with 1 Axes>"
      ]
     },
     "metadata": {
      "needs_background": "light"
     },
     "output_type": "display_data"
    }
   ],
   "source": [
    "# decide the best k: inertia criterion\n",
    "inertia = []\n",
    "\n",
    "for i in range(1, 11):\n",
    "    kmeans = KMeans(n_clusters=i, init='random', n_init=10, max_iter=200, tol=1e-04, random_state=777)\n",
    "    kmeans.fit(df_seg_clean)\n",
    "    inertia.append(kmeans.inertia_)\n",
    "\n",
    "# plot\n",
    "plt.plot(range(1, 11), inertia, marker='o')\n",
    "plt.xlabel('Number of clusters')\n",
    "plt.ylabel('Inertia')\n",
    "plt.show()"
   ]
  },
  {
   "cell_type": "code",
   "execution_count": 15,
   "metadata": {
    "scrolled": true
   },
   "outputs": [],
   "source": [
    "# Clustering model\n",
    "kmeans = KMeans(n_clusters=3, init='random', random_state=777)\n",
    "\n",
    "kmeans.fit(df_seg_clean)\n",
    "\n",
    "full_cluster_kmeans = kmeans.predict(df_seg_clean)\n",
    "\n",
    "df_seg_clean['cluster_kmeans'] = full_cluster_kmeans"
   ]
  },
  {
   "cell_type": "code",
   "execution_count": 16,
   "metadata": {
    "scrolled": true
   },
   "outputs": [
    {
     "name": "stdout",
     "output_type": "stream",
     "text": [
      "Cluster 0 has 38324 customers.\n",
      "Cluster 1 has 37929 customers.\n",
      "Cluster 2 has 45147 customers.\n"
     ]
    }
   ],
   "source": [
    "# check cluster proportions\n",
    "for i in [0,1,2]:\n",
    "    print('Cluster {} has {} customers.'.format(i, df_seg_clean['cluster_kmeans'].value_counts()[i]))"
   ]
  },
  {
   "cell_type": "code",
   "execution_count": 17,
   "metadata": {
    "scrolled": true
   },
   "outputs": [
    {
     "data": {
      "text/html": [
       "<div>\n",
       "<style scoped>\n",
       "    .dataframe tbody tr th:only-of-type {\n",
       "        vertical-align: middle;\n",
       "    }\n",
       "\n",
       "    .dataframe tbody tr th {\n",
       "        vertical-align: top;\n",
       "    }\n",
       "\n",
       "    .dataframe thead th {\n",
       "        text-align: right;\n",
       "    }\n",
       "</style>\n",
       "<table border=\"1\" class=\"dataframe\">\n",
       "  <thead>\n",
       "    <tr style=\"text-align: right;\">\n",
       "      <th>cluster_kmeans</th>\n",
       "      <th>0</th>\n",
       "      <th>1</th>\n",
       "      <th>2</th>\n",
       "    </tr>\n",
       "  </thead>\n",
       "  <tbody>\n",
       "    <tr>\n",
       "      <th>male_TF</th>\n",
       "      <td>0.113010</td>\n",
       "      <td>0.109758</td>\n",
       "      <td>0.091457</td>\n",
       "    </tr>\n",
       "    <tr>\n",
       "      <th>initial_credit_card_declined</th>\n",
       "      <td>0.054796</td>\n",
       "      <td>0.054075</td>\n",
       "      <td>0.043680</td>\n",
       "    </tr>\n",
       "    <tr>\n",
       "      <th>package_type_base</th>\n",
       "      <td>0.000000</td>\n",
       "      <td>0.562446</td>\n",
       "      <td>1.000000</td>\n",
       "    </tr>\n",
       "    <tr>\n",
       "      <th>package_type_economy</th>\n",
       "      <td>0.099468</td>\n",
       "      <td>0.066361</td>\n",
       "      <td>0.000000</td>\n",
       "    </tr>\n",
       "    <tr>\n",
       "      <th>package_type_enhanced</th>\n",
       "      <td>0.810980</td>\n",
       "      <td>0.325503</td>\n",
       "      <td>0.000000</td>\n",
       "    </tr>\n",
       "    <tr>\n",
       "      <th>package_type_no_package</th>\n",
       "      <td>0.089552</td>\n",
       "      <td>0.045691</td>\n",
       "      <td>0.000000</td>\n",
       "    </tr>\n",
       "    <tr>\n",
       "      <th>preferred_genre_comedy</th>\n",
       "      <td>0.709999</td>\n",
       "      <td>0.699017</td>\n",
       "      <td>0.752298</td>\n",
       "    </tr>\n",
       "    <tr>\n",
       "      <th>preferred_genre_drama</th>\n",
       "      <td>0.125900</td>\n",
       "      <td>0.178676</td>\n",
       "      <td>0.180078</td>\n",
       "    </tr>\n",
       "    <tr>\n",
       "      <th>preferred_genre_international</th>\n",
       "      <td>0.021136</td>\n",
       "      <td>0.032561</td>\n",
       "      <td>0.023634</td>\n",
       "    </tr>\n",
       "    <tr>\n",
       "      <th>preferred_genre_no_genre_preference</th>\n",
       "      <td>0.091796</td>\n",
       "      <td>0.047905</td>\n",
       "      <td>0.002392</td>\n",
       "    </tr>\n",
       "    <tr>\n",
       "      <th>preferred_genre_other</th>\n",
       "      <td>0.008193</td>\n",
       "      <td>0.009755</td>\n",
       "      <td>0.007797</td>\n",
       "    </tr>\n",
       "    <tr>\n",
       "      <th>preferred_genre_regional</th>\n",
       "      <td>0.042976</td>\n",
       "      <td>0.032086</td>\n",
       "      <td>0.033801</td>\n",
       "    </tr>\n",
       "    <tr>\n",
       "      <th>intended_use_access to exclusive content</th>\n",
       "      <td>0.458590</td>\n",
       "      <td>0.570619</td>\n",
       "      <td>0.635878</td>\n",
       "    </tr>\n",
       "    <tr>\n",
       "      <th>intended_use_education</th>\n",
       "      <td>0.010855</td>\n",
       "      <td>0.006380</td>\n",
       "      <td>0.000199</td>\n",
       "    </tr>\n",
       "    <tr>\n",
       "      <th>intended_use_expand international access</th>\n",
       "      <td>0.031469</td>\n",
       "      <td>0.014422</td>\n",
       "      <td>0.000642</td>\n",
       "    </tr>\n",
       "    <tr>\n",
       "      <th>intended_use_expand regional access</th>\n",
       "      <td>0.033530</td>\n",
       "      <td>0.019747</td>\n",
       "      <td>0.000797</td>\n",
       "    </tr>\n",
       "    <tr>\n",
       "      <th>intended_use_no_intended_use</th>\n",
       "      <td>0.015995</td>\n",
       "      <td>0.008806</td>\n",
       "      <td>0.003500</td>\n",
       "    </tr>\n",
       "    <tr>\n",
       "      <th>intended_use_other</th>\n",
       "      <td>0.024293</td>\n",
       "      <td>0.024810</td>\n",
       "      <td>0.022327</td>\n",
       "    </tr>\n",
       "    <tr>\n",
       "      <th>intended_use_replace OTT</th>\n",
       "      <td>0.254279</td>\n",
       "      <td>0.180469</td>\n",
       "      <td>0.173478</td>\n",
       "    </tr>\n",
       "    <tr>\n",
       "      <th>intended_use_supplement OTT</th>\n",
       "      <td>0.170989</td>\n",
       "      <td>0.174748</td>\n",
       "      <td>0.163178</td>\n",
       "    </tr>\n",
       "    <tr>\n",
       "      <th>op_sys_Android</th>\n",
       "      <td>0.000000</td>\n",
       "      <td>0.988478</td>\n",
       "      <td>0.000000</td>\n",
       "    </tr>\n",
       "    <tr>\n",
       "      <th>op_sys_Other</th>\n",
       "      <td>0.060249</td>\n",
       "      <td>0.011522</td>\n",
       "      <td>0.070636</td>\n",
       "    </tr>\n",
       "    <tr>\n",
       "      <th>op_sys_iOS</th>\n",
       "      <td>0.939751</td>\n",
       "      <td>0.000000</td>\n",
       "      <td>0.929364</td>\n",
       "    </tr>\n",
       "    <tr>\n",
       "      <th>OTT_utilized_Average_OTT</th>\n",
       "      <td>0.890617</td>\n",
       "      <td>0.912442</td>\n",
       "      <td>0.922564</td>\n",
       "    </tr>\n",
       "    <tr>\n",
       "      <th>OTT_utilized_High_OTT</th>\n",
       "      <td>0.007854</td>\n",
       "      <td>0.012945</td>\n",
       "      <td>0.004895</td>\n",
       "    </tr>\n",
       "    <tr>\n",
       "      <th>OTT_utilized_Low_OTT</th>\n",
       "      <td>0.101529</td>\n",
       "      <td>0.074613</td>\n",
       "      <td>0.072541</td>\n",
       "    </tr>\n",
       "    <tr>\n",
       "      <th>Consumption_pattern_Average_Consumption</th>\n",
       "      <td>0.892730</td>\n",
       "      <td>0.888792</td>\n",
       "      <td>0.915875</td>\n",
       "    </tr>\n",
       "    <tr>\n",
       "      <th>Consumption_pattern_High_Consumption</th>\n",
       "      <td>0.080498</td>\n",
       "      <td>0.078436</td>\n",
       "      <td>0.058077</td>\n",
       "    </tr>\n",
       "    <tr>\n",
       "      <th>Consumption_pattern_Light_Consumption</th>\n",
       "      <td>0.026772</td>\n",
       "      <td>0.032772</td>\n",
       "      <td>0.026048</td>\n",
       "    </tr>\n",
       "    <tr>\n",
       "      <th>Streaming_pattern_Average_Streaming</th>\n",
       "      <td>0.955824</td>\n",
       "      <td>0.929315</td>\n",
       "      <td>0.969034</td>\n",
       "    </tr>\n",
       "    <tr>\n",
       "      <th>Streaming_pattern_High_Streaming</th>\n",
       "      <td>0.043837</td>\n",
       "      <td>0.070316</td>\n",
       "      <td>0.030589</td>\n",
       "    </tr>\n",
       "    <tr>\n",
       "      <th>Streaming_pattern_Low_Streaming</th>\n",
       "      <td>0.000339</td>\n",
       "      <td>0.000369</td>\n",
       "      <td>0.000377</td>\n",
       "    </tr>\n",
       "    <tr>\n",
       "      <th>Age_group_Mid_age</th>\n",
       "      <td>0.695282</td>\n",
       "      <td>0.730655</td>\n",
       "      <td>0.734423</td>\n",
       "    </tr>\n",
       "    <tr>\n",
       "      <th>Age_group_Senior</th>\n",
       "      <td>0.090257</td>\n",
       "      <td>0.111129</td>\n",
       "      <td>0.130928</td>\n",
       "    </tr>\n",
       "    <tr>\n",
       "      <th>Age_group_Young</th>\n",
       "      <td>0.214461</td>\n",
       "      <td>0.158217</td>\n",
       "      <td>0.134649</td>\n",
       "    </tr>\n",
       "  </tbody>\n",
       "</table>\n",
       "</div>"
      ],
      "text/plain": [
       "cluster_kmeans                                   0         1         2\n",
       "male_TF                                   0.113010  0.109758  0.091457\n",
       "initial_credit_card_declined              0.054796  0.054075  0.043680\n",
       "package_type_base                         0.000000  0.562446  1.000000\n",
       "package_type_economy                      0.099468  0.066361  0.000000\n",
       "package_type_enhanced                     0.810980  0.325503  0.000000\n",
       "package_type_no_package                   0.089552  0.045691  0.000000\n",
       "preferred_genre_comedy                    0.709999  0.699017  0.752298\n",
       "preferred_genre_drama                     0.125900  0.178676  0.180078\n",
       "preferred_genre_international             0.021136  0.032561  0.023634\n",
       "preferred_genre_no_genre_preference       0.091796  0.047905  0.002392\n",
       "preferred_genre_other                     0.008193  0.009755  0.007797\n",
       "preferred_genre_regional                  0.042976  0.032086  0.033801\n",
       "intended_use_access to exclusive content  0.458590  0.570619  0.635878\n",
       "intended_use_education                    0.010855  0.006380  0.000199\n",
       "intended_use_expand international access  0.031469  0.014422  0.000642\n",
       "intended_use_expand regional access       0.033530  0.019747  0.000797\n",
       "intended_use_no_intended_use              0.015995  0.008806  0.003500\n",
       "intended_use_other                        0.024293  0.024810  0.022327\n",
       "intended_use_replace OTT                  0.254279  0.180469  0.173478\n",
       "intended_use_supplement OTT               0.170989  0.174748  0.163178\n",
       "op_sys_Android                            0.000000  0.988478  0.000000\n",
       "op_sys_Other                              0.060249  0.011522  0.070636\n",
       "op_sys_iOS                                0.939751  0.000000  0.929364\n",
       "OTT_utilized_Average_OTT                  0.890617  0.912442  0.922564\n",
       "OTT_utilized_High_OTT                     0.007854  0.012945  0.004895\n",
       "OTT_utilized_Low_OTT                      0.101529  0.074613  0.072541\n",
       "Consumption_pattern_Average_Consumption   0.892730  0.888792  0.915875\n",
       "Consumption_pattern_High_Consumption      0.080498  0.078436  0.058077\n",
       "Consumption_pattern_Light_Consumption     0.026772  0.032772  0.026048\n",
       "Streaming_pattern_Average_Streaming       0.955824  0.929315  0.969034\n",
       "Streaming_pattern_High_Streaming          0.043837  0.070316  0.030589\n",
       "Streaming_pattern_Low_Streaming           0.000339  0.000369  0.000377\n",
       "Age_group_Mid_age                         0.695282  0.730655  0.734423\n",
       "Age_group_Senior                          0.090257  0.111129  0.130928\n",
       "Age_group_Young                           0.214461  0.158217  0.134649"
      ]
     },
     "execution_count": 17,
     "metadata": {},
     "output_type": "execute_result"
    }
   ],
   "source": [
    "# check out the clusters in data set\n",
    "df_seg_clean.groupby(by='cluster_kmeans').mean().T"
   ]
  },
  {
   "cell_type": "markdown",
   "metadata": {},
   "source": [
    "### Part 3 - User Churn Analysis"
   ]
  },
  {
   "cell_type": "code",
   "execution_count": 18,
   "metadata": {
    "scrolled": true
   },
   "outputs": [],
   "source": [
    "import numpy as np\n",
    "import pandas as pd\n",
    "import datetime\n",
    "\n",
    "# load the data and pre-processing the dates\n",
    "df = pd.read_csv('subscribers.csv')\n",
    "\n",
    "# add the effectiveness flag (payment_period > 0)\n",
    "df['mkt_effective_TF'] = df.payment_period.apply(lambda x: 1 if x>0 else 0)"
   ]
  },
  {
   "cell_type": "code",
   "execution_count": 19,
   "metadata": {
    "scrolled": true
   },
   "outputs": [],
   "source": [
    "# add the effectiveness flag (payment_period > 0)\n",
    "df['churn_TF'] = df.current_sub_TF.apply(lambda x: 1 if x == False else 0)"
   ]
  },
  {
   "cell_type": "code",
   "execution_count": 20,
   "metadata": {
    "scrolled": true
   },
   "outputs": [],
   "source": [
    "# get the fee-paying user group with key variables for analysis\n",
    "df_chr = df.loc[(df['trial_completed'] == True) & (df['mkt_effective_TF'] == 1),\n",
    "                ['subid', 'package_type', 'num_weekly_services_utilized',\n",
    "                 'weekly_consumption_hour', 'num_ideal_streaming_services', \n",
    "                 'age', 'initial_credit_card_declined', 'churn_TF']]"
   ]
  },
  {
   "cell_type": "code",
   "execution_count": 21,
   "metadata": {
    "scrolled": true
   },
   "outputs": [],
   "source": [
    "# define the functions for categorization\n",
    "def OTT_utilized(number):\n",
    "    if number == 'Average_OTT':\n",
    "        return('Average_OTT')\n",
    "    else:\n",
    "        number = int(number)\n",
    "        if number >= 0 and number <= 2:\n",
    "            return('Low_OTT')\n",
    "        elif number >= 3 and number <= 5:\n",
    "            return('Average_OTT')\n",
    "        else: \n",
    "            return('High_OTT')\n",
    "        \n",
    "def hours_consumed(number):\n",
    "    if number == 'Average_Consumption':\n",
    "        return('Average_Consumption')\n",
    "    else:\n",
    "        number = int(number)\n",
    "        if number < 21:\n",
    "            return('Light_Consumption')\n",
    "        elif number >= 21 and number < 35:\n",
    "            return('Average_Consumption')\n",
    "        else: \n",
    "            return('High_Consumption')\n",
    "\n",
    "def straeming_service(number):\n",
    "    if number == 'Average_Streaming':\n",
    "        return('Average_Streaming')\n",
    "    else:\n",
    "        number = int(number)\n",
    "        if number <= 1:\n",
    "            return('Low_Streaming')\n",
    "        elif number == 2:\n",
    "            return('Average_Streaming')\n",
    "        else: \n",
    "            return('High_Streaming')\n",
    "\n",
    "def age_range(number):\n",
    "    if number == 'Mid_age':\n",
    "        return('Mid_age')\n",
    "    else:\n",
    "        number = int(number)\n",
    "        if number > 1900 and number < 2020:\n",
    "            number = 2020 - number\n",
    "        else:\n",
    "            pass\n",
    "        if number <= 30:\n",
    "            return('Young')\n",
    "        elif number > 30 and number < 60:\n",
    "            return('Mid_age')\n",
    "        else: \n",
    "            return('Senior')"
   ]
  },
  {
   "cell_type": "code",
   "execution_count": 22,
   "metadata": {
    "scrolled": true
   },
   "outputs": [],
   "source": [
    "# data cleaning\n",
    "# 1. \"package_type\" (fill_na)\n",
    "df_chr['package_type'] = df_chr['package_type'].fillna('no_package')\n",
    "\n",
    "# 2. \"num_weekly_services_utilized\" (fill_na & categorization)\n",
    "df_chr['num_weekly_services_utilized'] = df_chr['num_weekly_services_utilized'].fillna('Average_OTT')\n",
    "df_chr['OTT_utilized'] = df_chr['num_weekly_services_utilized'].apply(OTT_utilized)\n",
    "\n",
    "# 3. \"weekly_consumption_hour\" (fill_na & categorization)\n",
    "df_chr['weekly_consumption_hour'] = df_chr['weekly_consumption_hour'].fillna('Average_Consumption')\n",
    "df_chr['Consumption_pattern'] = df_chr['weekly_consumption_hour'].apply(hours_consumed)\n",
    "\n",
    "# 4. \"num_ideal_streaming_services\" (fill_na & categorization)\n",
    "df_chr['num_ideal_streaming_services'] = df_chr['num_ideal_streaming_services'].fillna('Average_Streaming')\n",
    "df_chr['Streaming_pattern'] = df_chr['num_ideal_streaming_services'].apply(straeming_service)\n",
    "\n",
    "# 5. \"age\" (fill_na & categorization)\n",
    "df_chr['age'] = df_chr['age'].fillna('Mid_age')\n",
    "df_chr['Age_group'] = df_chr['age'].apply(age_range)"
   ]
  },
  {
   "cell_type": "code",
   "execution_count": 23,
   "metadata": {
    "scrolled": true
   },
   "outputs": [],
   "source": [
    "# consolidate all the data pre-processing results\n",
    "df_chr_clean = df_chr[['subid', 'package_type', 'initial_credit_card_declined', 'OTT_utilized',\n",
    "                       'Consumption_pattern', 'Streaming_pattern', 'Age_group', 'churn_TF']]\n",
    "\n",
    "df_chr_clean = df_chr_clean.set_index('subid')"
   ]
  },
  {
   "cell_type": "code",
   "execution_count": 24,
   "metadata": {
    "scrolled": true
   },
   "outputs": [
    {
     "data": {
      "text/plain": [
       "Index(['initial_credit_card_declined', 'churn_TF', 'package_type_base',\n",
       "       'package_type_economy', 'package_type_enhanced',\n",
       "       'package_type_no_package', 'OTT_utilized_Average_OTT',\n",
       "       'OTT_utilized_High_OTT', 'OTT_utilized_Low_OTT',\n",
       "       'Consumption_pattern_Average_Consumption',\n",
       "       'Consumption_pattern_High_Consumption',\n",
       "       'Consumption_pattern_Light_Consumption',\n",
       "       'Streaming_pattern_Average_Streaming',\n",
       "       'Streaming_pattern_High_Streaming', 'Streaming_pattern_Low_Streaming',\n",
       "       'Age_group_Mid_age', 'Age_group_Senior', 'Age_group_Young'],\n",
       "      dtype='object')"
      ]
     },
     "execution_count": 24,
     "metadata": {},
     "output_type": "execute_result"
    }
   ],
   "source": [
    "# transform categorical variables into dummy variables\n",
    "df_chr_clean = pd.get_dummies(df_chr_clean)\n",
    "\n",
    "df_chr_clean.columns"
   ]
  },
  {
   "cell_type": "code",
   "execution_count": 25,
   "metadata": {},
   "outputs": [],
   "source": [
    "# import LogisticRegression and Plotting related packages\n",
    "from sklearn.linear_model import LogisticRegression\n",
    "from sklearn.model_selection import train_test_split\n",
    "from sklearn.metrics import roc_auc_score\n",
    "from sklearn.metrics import roc_curve\n",
    "import matplotlib.pyplot as plt"
   ]
  },
  {
   "cell_type": "code",
   "execution_count": 26,
   "metadata": {
    "scrolled": true
   },
   "outputs": [],
   "source": [
    "# seperate X and Y for the LogisticRegression Models\n",
    "X = df_chr_clean[['initial_credit_card_declined', 'package_type_base', 'package_type_economy',\n",
    "                  'package_type_enhanced', 'package_type_no_package', 'OTT_utilized_Average_OTT',\n",
    "                  'OTT_utilized_High_OTT', 'OTT_utilized_Low_OTT', 'Consumption_pattern_Average_Consumption',\n",
    "                  'Consumption_pattern_High_Consumption', 'Consumption_pattern_Light_Consumption',\n",
    "                  'Streaming_pattern_Average_Streaming', 'Streaming_pattern_High_Streaming',\n",
    "                  'Streaming_pattern_Low_Streaming', 'Age_group_Mid_age', 'Age_group_Senior', 'Age_group_Young']]\n",
    "\n",
    "y = df_chr_clean[['churn_TF']]"
   ]
  },
  {
   "cell_type": "code",
   "execution_count": 27,
   "metadata": {
    "scrolled": true
   },
   "outputs": [
    {
     "name": "stderr",
     "output_type": "stream",
     "text": [
      "/Users/kunliu/opt/anaconda3/lib/python3.8/site-packages/sklearn/utils/validation.py:73: DataConversionWarning: A column-vector y was passed when a 1d array was expected. Please change the shape of y to (n_samples, ), for example using ravel().\n",
      "  return f(**kwargs)\n"
     ]
    },
    {
     "name": "stdout",
     "output_type": "stream",
     "text": [
      "Accuracy of logistic regression classifier on test set: 0.92\n"
     ]
    }
   ],
   "source": [
    "# train-test split, fit the model and check the model performance based on accuracy\n",
    "X_train, X_test, y_train, y_test = train_test_split(X, y, test_size=0.3, random_state=777)\n",
    "logreg = LogisticRegression()\n",
    "logreg.fit(X_train, y_train)\n",
    "\n",
    "y_pred = logreg.predict(X_test)\n",
    "\n",
    "print('Accuracy of logistic regression classifier on test set: {:.2f}'.format(logreg.score(X_test, y_test)))"
   ]
  },
  {
   "cell_type": "code",
   "execution_count": 28,
   "metadata": {
    "scrolled": true
   },
   "outputs": [],
   "source": [
    "# plot the ROC curve and calculate AUC for model evaluation (if necessary)\n",
    "if 1 == False:\n",
    "    logit_roc_auc = roc_auc_score(y_test, logreg.predict(X_test))\n",
    "    fpr, tpr, thresholds = roc_curve(y_test, logreg.predict_proba(X_test)[:,1])\n",
    "    plt.figure()\n",
    "    plt.plot(fpr, tpr, label='Logistic Regression (area = %0.2f)' % logit_roc_auc)\n",
    "    plt.plot([0, 1], [0, 1],'r--')\n",
    "    plt.xlim([0.0, 1.0])\n",
    "    plt.ylim([0.0, 1.05])\n",
    "    plt.xlabel('False Positive Rate')\n",
    "    plt.ylabel('True Positive Rate')\n",
    "    plt.title('Receiver operating characteristic')\n",
    "    plt.legend(loc=\"lower right\")\n",
    "    plt.savefig('Log_ROC')\n",
    "    plt.show()"
   ]
  },
  {
   "cell_type": "code",
   "execution_count": 29,
   "metadata": {
    "scrolled": true
   },
   "outputs": [],
   "source": [
    "# record the Model results and add the actual churn situation for revenue analysis\n",
    "y_pred_total = logreg.predict_proba(X)\n",
    "\n",
    "df_chr_result = y.copy()\n",
    "df_chr_result['Prob_Churn'] = y_pred_total[:,1]"
   ]
  },
  {
   "cell_type": "code",
   "execution_count": 30,
   "metadata": {
    "scrolled": true
   },
   "outputs": [
    {
     "data": {
      "text/html": [
       "<div>\n",
       "<style scoped>\n",
       "    .dataframe tbody tr th:only-of-type {\n",
       "        vertical-align: middle;\n",
       "    }\n",
       "\n",
       "    .dataframe tbody tr th {\n",
       "        vertical-align: top;\n",
       "    }\n",
       "\n",
       "    .dataframe thead th {\n",
       "        text-align: right;\n",
       "    }\n",
       "</style>\n",
       "<table border=\"1\" class=\"dataframe\">\n",
       "  <thead>\n",
       "    <tr style=\"text-align: right;\">\n",
       "      <th></th>\n",
       "      <th>Prob_Churn</th>\n",
       "    </tr>\n",
       "    <tr>\n",
       "      <th>churn_TF</th>\n",
       "      <th></th>\n",
       "    </tr>\n",
       "  </thead>\n",
       "  <tbody>\n",
       "    <tr>\n",
       "      <th>0</th>\n",
       "      <td>0.067923</td>\n",
       "    </tr>\n",
       "    <tr>\n",
       "      <th>1</th>\n",
       "      <td>0.205036</td>\n",
       "    </tr>\n",
       "  </tbody>\n",
       "</table>\n",
       "</div>"
      ],
      "text/plain": [
       "          Prob_Churn\n",
       "churn_TF            \n",
       "0           0.067923\n",
       "1           0.205036"
      ]
     },
     "execution_count": 30,
     "metadata": {},
     "output_type": "execute_result"
    }
   ],
   "source": [
    "df_chr_result.groupby('churn_TF').mean()"
   ]
  },
  {
   "cell_type": "code",
   "execution_count": 31,
   "metadata": {
    "scrolled": true
   },
   "outputs": [],
   "source": [
    "df_chr_result.to_csv('churn_pred.csv')"
   ]
  }
 ],
 "metadata": {
  "kernelspec": {
   "display_name": "Python 3",
   "language": "python",
   "name": "python3"
  },
  "language_info": {
   "codemirror_mode": {
    "name": "ipython",
    "version": 3
   },
   "file_extension": ".py",
   "mimetype": "text/x-python",
   "name": "python",
   "nbconvert_exporter": "python",
   "pygments_lexer": "ipython3",
   "version": "3.8.3"
  }
 },
 "nbformat": 4,
 "nbformat_minor": 4
}
